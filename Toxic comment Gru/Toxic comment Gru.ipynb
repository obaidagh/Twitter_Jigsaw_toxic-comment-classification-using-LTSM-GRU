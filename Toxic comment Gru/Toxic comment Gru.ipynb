{
 "cells": [
  {
   "cell_type": "markdown",
   "id": "dff694bb",
   "metadata": {
    "papermill": {
     "duration": 0.017566,
     "end_time": "2022-04-09T19:00:13.427860",
     "exception": false,
     "start_time": "2022-04-09T19:00:13.410294",
     "status": "completed"
    },
    "tags": []
   },
   "source": [
    "# <center> `Library Importing and config class`  </center>"
   ]
  },
  {
   "cell_type": "code",
   "execution_count": 1,
   "id": "175af5cd",
   "metadata": {
    "execution": {
     "iopub.execute_input": "2022-04-09T19:00:13.463297Z",
     "iopub.status.busy": "2022-04-09T19:00:13.461792Z",
     "iopub.status.idle": "2022-04-09T19:00:20.057565Z",
     "shell.execute_reply": "2022-04-09T19:00:20.056439Z",
     "shell.execute_reply.started": "2022-04-09T15:14:50.580918Z"
    },
    "papermill": {
     "duration": 6.614929,
     "end_time": "2022-04-09T19:00:20.057744",
     "exception": false,
     "start_time": "2022-04-09T19:00:13.442815",
     "status": "completed"
    },
    "tags": []
   },
   "outputs": [],
   "source": [
    "%matplotlib inline\n",
    "import matplotlib.pyplot as plt\n",
    "import os, numpy as np, pandas as pd\n",
    "from sklearn.model_selection import train_test_split\n",
    "\n",
    "\n",
    "from keras.preprocessing.text import Tokenizer\n",
    "from keras.preprocessing.sequence import pad_sequences\n",
    "\n",
    "from keras.layers import Dense, Input, LSTM, Embedding, Dropout, Activation, SpatialDropout1D\n",
    "\n",
    "from keras.layers import MaxPool1D, Flatten, Conv1D, GRU, GlobalAveragePooling1D, GlobalMaxPooling1D,concatenate,Bidirectional, GlobalMaxPool1D\n",
    "\n",
    "from keras.callbacks import ReduceLROnPlateau, EarlyStopping\n",
    "\n",
    "from keras.models import Model,Sequential\n",
    "from tensorflow.keras.optimizers import Adam\n",
    "from keras import initializers,optimizers, layers\n",
    "from keras.initializers import Constant\n"
   ]
  },
  {
   "cell_type": "code",
   "execution_count": 2,
   "id": "c2f0863f",
   "metadata": {
    "execution": {
     "iopub.execute_input": "2022-04-09T19:00:20.094070Z",
     "iopub.status.busy": "2022-04-09T19:00:20.093143Z",
     "iopub.status.idle": "2022-04-09T19:00:20.094892Z",
     "shell.execute_reply": "2022-04-09T19:00:20.095341Z",
     "shell.execute_reply.started": "2022-04-09T15:14:56.850333Z"
    },
    "papermill": {
     "duration": 0.022506,
     "end_time": "2022-04-09T19:00:20.095491",
     "exception": false,
     "start_time": "2022-04-09T19:00:20.072985",
     "status": "completed"
    },
    "tags": []
   },
   "outputs": [],
   "source": [
    "class config_class(object):\n",
    "    def __init__(self, max_features, maxlen,embed_size,batch_size,epochs):\n",
    "        self.max_features = max_features\n",
    "        self.maxlen = maxlen\n",
    "        self.embed_size = embed_size\n",
    "        self.batch_size = batch_size\n",
    "        self.epochs = epochs\n",
    "        \n",
    "config=config_class(max_features = 20000, maxlen = 200, embed_size = 50,batch_size = 64,epochs = 128)"
   ]
  },
  {
   "cell_type": "markdown",
   "id": "228090cf",
   "metadata": {
    "papermill": {
     "duration": 0.01408,
     "end_time": "2022-04-09T19:00:20.124138",
     "exception": false,
     "start_time": "2022-04-09T19:00:20.110058",
     "status": "completed"
    },
    "tags": []
   },
   "source": [
    "# <center> `Data importing and preperation`  </center>"
   ]
  },
  {
   "cell_type": "code",
   "execution_count": 3,
   "id": "3a768cde",
   "metadata": {
    "execution": {
     "iopub.execute_input": "2022-04-09T19:00:20.160144Z",
     "iopub.status.busy": "2022-04-09T19:00:20.158843Z",
     "iopub.status.idle": "2022-04-09T19:00:23.662700Z",
     "shell.execute_reply": "2022-04-09T19:00:23.662223Z",
     "shell.execute_reply.started": "2022-04-09T15:14:56.865333Z"
    },
    "papermill": {
     "duration": 3.52403,
     "end_time": "2022-04-09T19:00:23.662835",
     "exception": false,
     "start_time": "2022-04-09T19:00:20.138805",
     "status": "completed"
    },
    "tags": []
   },
   "outputs": [],
   "source": [
    "train = pd.read_csv('/kaggle/input/jigsaw-toxic-comment-classification-challenge/train.csv.zip')\n",
    "test  = pd.read_csv('/kaggle/input/jigsaw-toxic-comment-classification-challenge/test.csv.zip')"
   ]
  },
  {
   "cell_type": "code",
   "execution_count": 4,
   "id": "7b26044a",
   "metadata": {
    "execution": {
     "iopub.execute_input": "2022-04-09T19:00:23.711414Z",
     "iopub.status.busy": "2022-04-09T19:00:23.709477Z",
     "iopub.status.idle": "2022-04-09T19:00:23.714550Z",
     "shell.execute_reply": "2022-04-09T19:00:23.714136Z",
     "shell.execute_reply.started": "2022-04-09T15:15:00.211036Z"
    },
    "papermill": {
     "duration": 0.036973,
     "end_time": "2022-04-09T19:00:23.714684",
     "exception": false,
     "start_time": "2022-04-09T19:00:23.677711",
     "status": "completed"
    },
    "tags": []
   },
   "outputs": [],
   "source": [
    "classes = [\"toxic\", \"severe_toxic\", \"obscene\", \"threat\", \"insult\", \"identity_hate\"]\n",
    "Train_y = train[classes].values\n",
    "Train_x = train[\"comment_text\"]\n",
    "Test_x  = test[\"comment_text\"]\n"
   ]
  },
  {
   "cell_type": "markdown",
   "id": "8cba90cc",
   "metadata": {
    "papermill": {
     "duration": 0.01541,
     "end_time": "2022-04-09T19:00:23.745326",
     "exception": false,
     "start_time": "2022-04-09T19:00:23.729916",
     "status": "completed"
    },
    "tags": []
   },
   "source": [
    "# <center> `Tokenization and padding`  </center>"
   ]
  },
  {
   "cell_type": "code",
   "execution_count": 5,
   "id": "551fff17",
   "metadata": {
    "execution": {
     "iopub.execute_input": "2022-04-09T19:00:23.824470Z",
     "iopub.status.busy": "2022-04-09T19:00:23.819475Z",
     "iopub.status.idle": "2022-04-09T19:00:52.174442Z",
     "shell.execute_reply": "2022-04-09T19:00:52.173477Z",
     "shell.execute_reply.started": "2022-04-09T15:15:00.232225Z"
    },
    "papermill": {
     "duration": 28.412677,
     "end_time": "2022-04-09T19:00:52.174594",
     "exception": false,
     "start_time": "2022-04-09T19:00:23.761917",
     "status": "completed"
    },
    "tags": []
   },
   "outputs": [],
   "source": [
    "tokenizer =Tokenizer(num_words=config.max_features,\n",
    "                     filters='!\"#$%&()*+,-./:;<=>?@[\\\\]^_`{|}~\\t\\n', \n",
    "                     split=' ', oov_token='<OOV>')\n",
    "tokenizer.fit_on_texts(list(Train_x))\n",
    "\n",
    "Train_x_tokenized = tokenizer.texts_to_sequences(Train_x)\n",
    "Test_x_tokenized  = tokenizer.texts_to_sequences(Test_x)"
   ]
  },
  {
   "cell_type": "code",
   "execution_count": 6,
   "id": "4c8c71c9",
   "metadata": {
    "execution": {
     "iopub.execute_input": "2022-04-09T19:00:52.237740Z",
     "iopub.status.busy": "2022-04-09T19:00:52.236434Z",
     "iopub.status.idle": "2022-04-09T19:00:54.918209Z",
     "shell.execute_reply": "2022-04-09T19:00:54.917703Z",
     "shell.execute_reply.started": "2022-04-09T15:15:31.087336Z"
    },
    "papermill": {
     "duration": 2.72809,
     "end_time": "2022-04-09T19:00:54.918352",
     "exception": false,
     "start_time": "2022-04-09T19:00:52.190262",
     "status": "completed"
    },
    "tags": []
   },
   "outputs": [],
   "source": [
    "Train_x_tokenized_padded = pad_sequences(Train_x_tokenized, maxlen=config.maxlen , padding='post',truncating='post')\n",
    "Test_x_tokenized_padded  = pad_sequences(Test_x_tokenized , maxlen=config.maxlen , padding='post',truncating='post')"
   ]
  },
  {
   "cell_type": "code",
   "execution_count": 7,
   "id": "668d2ee1",
   "metadata": {
    "execution": {
     "iopub.execute_input": "2022-04-09T19:00:54.956082Z",
     "iopub.status.busy": "2022-04-09T19:00:54.955222Z",
     "iopub.status.idle": "2022-04-09T19:00:55.029673Z",
     "shell.execute_reply": "2022-04-09T19:00:55.029206Z",
     "shell.execute_reply.started": "2022-04-09T15:15:33.89556Z"
    },
    "papermill": {
     "duration": 0.09637,
     "end_time": "2022-04-09T19:00:55.029805",
     "exception": false,
     "start_time": "2022-04-09T19:00:54.933435",
     "status": "completed"
    },
    "tags": []
   },
   "outputs": [],
   "source": [
    "X_train, X_val, Y_train, Y_val = train_test_split( Train_x_tokenized_padded, Train_y, test_size=0.33, random_state=42)"
   ]
  },
  {
   "cell_type": "markdown",
   "id": "5b02bc96",
   "metadata": {
    "papermill": {
     "duration": 0.0155,
     "end_time": "2022-04-09T19:00:55.060374",
     "exception": false,
     "start_time": "2022-04-09T19:00:55.044874",
     "status": "completed"
    },
    "tags": []
   },
   "source": [
    "# <center> `Glove50 Embeddings vector`  </center>"
   ]
  },
  {
   "cell_type": "code",
   "execution_count": 8,
   "id": "07543de7",
   "metadata": {
    "execution": {
     "iopub.execute_input": "2022-04-09T19:00:55.101687Z",
     "iopub.status.busy": "2022-04-09T19:00:55.100869Z",
     "iopub.status.idle": "2022-04-09T19:01:02.819134Z",
     "shell.execute_reply": "2022-04-09T19:01:02.818200Z",
     "shell.execute_reply.started": "2022-04-09T15:15:33.985898Z"
    },
    "papermill": {
     "duration": 7.741497,
     "end_time": "2022-04-09T19:01:02.819286",
     "exception": false,
     "start_time": "2022-04-09T19:00:55.077789",
     "status": "completed"
    },
    "tags": []
   },
   "outputs": [
    {
     "name": "stderr",
     "output_type": "stream",
     "text": [
      "/opt/conda/lib/python3.7/site-packages/IPython/core/interactiveshell.py:3377: FutureWarning: arrays to stack must be passed as a \"sequence\" type such as list or tuple. Support for non-sequence iterables such as generators is deprecated as of NumPy 1.16 and will raise an error in the future.\n",
      "  if (await self.run_code(code, result,  async_=asy)):\n"
     ]
    }
   ],
   "source": [
    "def get_coefs(word,*arr): \n",
    "    return word, np.asarray(arr, dtype='float32')\n",
    "embeddings_index = dict(get_coefs(*o.strip().split()) for o in open('/kaggle/input/glove6b50dtxt/glove.6B.50d.txt')) \n",
    "\n",
    "all_embs = np.stack(embeddings_index.values()) \n",
    "emb_mean,emb_std = all_embs.mean(), all_embs.std() \n",
    "\n",
    "\n",
    "word_index = tokenizer.word_index \n",
    "nb_words = min(config.max_features, len(word_index)) \n",
    "                                              \n",
    "embedding_matrix = np.random.normal(emb_mean, emb_std, (nb_words, config.embed_size))\n",
    "\n",
    "\n",
    "\n",
    "for word, i in word_index.items():\n",
    "    if i >= config.max_features: \n",
    "        continue \n",
    "    embedding_vector = embeddings_index.get(word) \n",
    "    \n",
    "    if embedding_vector is not None: \n",
    "        embedding_matrix[i] = embedding_vector \n",
    "        \n",
    "        "
   ]
  },
  {
   "cell_type": "markdown",
   "id": "3357cb28",
   "metadata": {
    "papermill": {
     "duration": 0.016595,
     "end_time": "2022-04-09T19:01:02.851946",
     "exception": false,
     "start_time": "2022-04-09T19:01:02.835351",
     "status": "completed"
    },
    "tags": []
   },
   "source": [
    "# <center> `Model Initialization and Compiling`  </center>"
   ]
  },
  {
   "cell_type": "code",
   "execution_count": 9,
   "id": "db493358",
   "metadata": {
    "execution": {
     "iopub.execute_input": "2022-04-09T19:01:02.889811Z",
     "iopub.status.busy": "2022-04-09T19:01:02.884862Z",
     "iopub.status.idle": "2022-04-09T19:01:06.669229Z",
     "shell.execute_reply": "2022-04-09T19:01:06.668765Z",
     "shell.execute_reply.started": "2022-04-09T18:49:19.280078Z"
    },
    "papermill": {
     "duration": 3.802177,
     "end_time": "2022-04-09T19:01:06.669359",
     "exception": false,
     "start_time": "2022-04-09T19:01:02.867182",
     "status": "completed"
    },
    "tags": []
   },
   "outputs": [
    {
     "name": "stderr",
     "output_type": "stream",
     "text": [
      "2022-04-09 19:01:02.995077: I tensorflow/stream_executor/cuda/cuda_gpu_executor.cc:937] successful NUMA node read from SysFS had negative value (-1), but there must be at least one NUMA node, so returning NUMA node zero\n",
      "2022-04-09 19:01:03.086781: I tensorflow/stream_executor/cuda/cuda_gpu_executor.cc:937] successful NUMA node read from SysFS had negative value (-1), but there must be at least one NUMA node, so returning NUMA node zero\n",
      "2022-04-09 19:01:03.087608: I tensorflow/stream_executor/cuda/cuda_gpu_executor.cc:937] successful NUMA node read from SysFS had negative value (-1), but there must be at least one NUMA node, so returning NUMA node zero\n",
      "2022-04-09 19:01:03.088874: I tensorflow/core/platform/cpu_feature_guard.cc:142] This TensorFlow binary is optimized with oneAPI Deep Neural Network Library (oneDNN) to use the following CPU instructions in performance-critical operations:  AVX2 AVX512F FMA\n",
      "To enable them in other operations, rebuild TensorFlow with the appropriate compiler flags.\n",
      "2022-04-09 19:01:03.090078: I tensorflow/stream_executor/cuda/cuda_gpu_executor.cc:937] successful NUMA node read from SysFS had negative value (-1), but there must be at least one NUMA node, so returning NUMA node zero\n",
      "2022-04-09 19:01:03.090799: I tensorflow/stream_executor/cuda/cuda_gpu_executor.cc:937] successful NUMA node read from SysFS had negative value (-1), but there must be at least one NUMA node, so returning NUMA node zero\n",
      "2022-04-09 19:01:03.091600: I tensorflow/stream_executor/cuda/cuda_gpu_executor.cc:937] successful NUMA node read from SysFS had negative value (-1), but there must be at least one NUMA node, so returning NUMA node zero\n",
      "2022-04-09 19:01:05.062053: I tensorflow/stream_executor/cuda/cuda_gpu_executor.cc:937] successful NUMA node read from SysFS had negative value (-1), but there must be at least one NUMA node, so returning NUMA node zero\n",
      "2022-04-09 19:01:05.062979: I tensorflow/stream_executor/cuda/cuda_gpu_executor.cc:937] successful NUMA node read from SysFS had negative value (-1), but there must be at least one NUMA node, so returning NUMA node zero\n",
      "2022-04-09 19:01:05.063701: I tensorflow/stream_executor/cuda/cuda_gpu_executor.cc:937] successful NUMA node read from SysFS had negative value (-1), but there must be at least one NUMA node, so returning NUMA node zero\n",
      "2022-04-09 19:01:05.064310: I tensorflow/core/common_runtime/gpu/gpu_device.cc:1510] Created device /job:localhost/replica:0/task:0/device:GPU:0 with 15403 MB memory:  -> device: 0, name: Tesla P100-PCIE-16GB, pci bus id: 0000:00:04.0, compute capability: 6.0\n"
     ]
    },
    {
     "name": "stdout",
     "output_type": "stream",
     "text": [
      "Model: \"sequential\"\n",
      "_________________________________________________________________\n",
      "Layer (type)                 Output Shape              Param #   \n",
      "=================================================================\n",
      "embedding (Embedding)        (None, 200, 50)           1000000   \n",
      "_________________________________________________________________\n",
      "spatial_dropout1d (SpatialDr (None, 200, 50)           0         \n",
      "_________________________________________________________________\n",
      "bidirectional (Bidirectional (None, 200, 256)          138240    \n",
      "_________________________________________________________________\n",
      "bidirectional_1 (Bidirection (None, 200, 256)          296448    \n",
      "_________________________________________________________________\n",
      "global_max_pooling1d (Global (None, 256)               0         \n",
      "_________________________________________________________________\n",
      "dropout (Dropout)            (None, 256)               0         \n",
      "_________________________________________________________________\n",
      "dense (Dense)                (None, 100)               25700     \n",
      "_________________________________________________________________\n",
      "dropout_1 (Dropout)          (None, 100)               0         \n",
      "_________________________________________________________________\n",
      "dense_1 (Dense)              (None, 50)                5050      \n",
      "_________________________________________________________________\n",
      "dropout_2 (Dropout)          (None, 50)                0         \n",
      "_________________________________________________________________\n",
      "dense_2 (Dense)              (None, 6)                 306       \n",
      "=================================================================\n",
      "Total params: 1,465,744\n",
      "Trainable params: 465,744\n",
      "Non-trainable params: 1,000,000\n",
      "_________________________________________________________________\n"
     ]
    }
   ],
   "source": [
    "model = Sequential([\n",
    "    Input(shape=(config.maxlen,)),\n",
    "    Embedding(config.max_features, config.embed_size, trainable=False,embeddings_initializer=Constant(embedding_matrix)),\n",
    "    SpatialDropout1D(0.2),\n",
    "    Bidirectional(GRU(128, return_sequences=True, dropout=0.1)),\n",
    "    Bidirectional(GRU(128, return_sequences=True, dropout=0.1)),\n",
    "    GlobalMaxPool1D(),\n",
    "    Dropout(0.1),\n",
    "    Dense(100, activation=\"relu\"),\n",
    "    Dropout(0.1),\n",
    "    Dense(50, activation=\"relu\"),\n",
    "    Dropout(0.1),\n",
    "    Dense(6, activation=\"sigmoid\")\n",
    "    ])\n",
    "optimizer= Adam(learning_rate=0.0001)\n",
    "model.compile(loss='binary_crossentropy',optimizer=optimizer,metrics=['accuracy'])\n",
    "model.summary()"
   ]
  },
  {
   "cell_type": "code",
   "execution_count": 10,
   "id": "7a35a766",
   "metadata": {
    "execution": {
     "iopub.execute_input": "2022-04-09T19:01:06.708007Z",
     "iopub.status.busy": "2022-04-09T19:01:06.707307Z",
     "iopub.status.idle": "2022-04-09T20:13:09.649582Z",
     "shell.execute_reply": "2022-04-09T20:13:09.649062Z",
     "shell.execute_reply.started": "2022-04-09T15:16:27.566322Z"
    },
    "papermill": {
     "duration": 4322.96441,
     "end_time": "2022-04-09T20:13:09.649716",
     "exception": false,
     "start_time": "2022-04-09T19:01:06.685306",
     "status": "completed"
    },
    "tags": []
   },
   "outputs": [
    {
     "name": "stderr",
     "output_type": "stream",
     "text": [
      "2022-04-09 19:01:06.835552: I tensorflow/compiler/mlir/mlir_graph_optimization_pass.cc:185] None of the MLIR Optimization Passes are enabled (registered 2)\n"
     ]
    },
    {
     "name": "stdout",
     "output_type": "stream",
     "text": [
      "Epoch 1/128\n"
     ]
    },
    {
     "name": "stderr",
     "output_type": "stream",
     "text": [
      "2022-04-09 19:01:12.588415: I tensorflow/stream_executor/cuda/cuda_dnn.cc:369] Loaded cuDNN version 8005\n"
     ]
    },
    {
     "name": "stdout",
     "output_type": "stream",
     "text": [
      "1671/1671 [==============================] - 106s 59ms/step - loss: 0.1077 - accuracy: 0.7209 - val_loss: 0.0651 - val_accuracy: 0.9940\n",
      "Epoch 2/128\n",
      "1671/1671 [==============================] - 93s 56ms/step - loss: 0.0714 - accuracy: 0.8419 - val_loss: 0.0616 - val_accuracy: 0.9941\n",
      "Epoch 3/128\n",
      "1671/1671 [==============================] - 93s 55ms/step - loss: 0.0673 - accuracy: 0.8932 - val_loss: 0.0580 - val_accuracy: 0.9941\n",
      "Epoch 4/128\n",
      "1671/1671 [==============================] - 93s 56ms/step - loss: 0.0641 - accuracy: 0.9235 - val_loss: 0.0561 - val_accuracy: 0.9940\n",
      "Epoch 5/128\n",
      "1671/1671 [==============================] - 94s 56ms/step - loss: 0.0620 - accuracy: 0.9415 - val_loss: 0.0553 - val_accuracy: 0.9939\n",
      "Epoch 6/128\n",
      "1671/1671 [==============================] - 94s 56ms/step - loss: 0.0603 - accuracy: 0.9625 - val_loss: 0.0536 - val_accuracy: 0.9940\n",
      "Epoch 7/128\n",
      "1671/1671 [==============================] - 93s 56ms/step - loss: 0.0586 - accuracy: 0.9692 - val_loss: 0.0524 - val_accuracy: 0.9934\n",
      "Epoch 8/128\n",
      "1671/1671 [==============================] - 94s 56ms/step - loss: 0.0577 - accuracy: 0.9736 - val_loss: 0.0523 - val_accuracy: 0.9935\n",
      "Epoch 9/128\n",
      "1671/1671 [==============================] - 94s 56ms/step - loss: 0.0566 - accuracy: 0.9804 - val_loss: 0.0510 - val_accuracy: 0.9930\n",
      "Epoch 10/128\n",
      "1671/1671 [==============================] - 94s 56ms/step - loss: 0.0555 - accuracy: 0.9830 - val_loss: 0.0515 - val_accuracy: 0.9931\n",
      "Epoch 11/128\n",
      "1671/1671 [==============================] - 93s 56ms/step - loss: 0.0547 - accuracy: 0.9845 - val_loss: 0.0502 - val_accuracy: 0.9936\n",
      "Epoch 12/128\n",
      "1671/1671 [==============================] - 94s 56ms/step - loss: 0.0537 - accuracy: 0.9852 - val_loss: 0.0494 - val_accuracy: 0.9938\n",
      "Epoch 13/128\n",
      "1671/1671 [==============================] - 93s 56ms/step - loss: 0.0533 - accuracy: 0.9876 - val_loss: 0.0484 - val_accuracy: 0.9939\n",
      "Epoch 14/128\n",
      "1671/1671 [==============================] - 93s 56ms/step - loss: 0.0524 - accuracy: 0.9877 - val_loss: 0.0505 - val_accuracy: 0.9936\n",
      "Epoch 15/128\n",
      "1671/1671 [==============================] - 94s 56ms/step - loss: 0.0521 - accuracy: 0.9877 - val_loss: 0.0488 - val_accuracy: 0.9938\n",
      "\n",
      "Epoch 00015: ReduceLROnPlateau reducing learning rate to 4.999999873689376e-05.\n",
      "Epoch 16/128\n",
      "1671/1671 [==============================] - 93s 56ms/step - loss: 0.0510 - accuracy: 0.9876 - val_loss: 0.0486 - val_accuracy: 0.9936\n",
      "Epoch 17/128\n",
      "1671/1671 [==============================] - 94s 56ms/step - loss: 0.0503 - accuracy: 0.9887 - val_loss: 0.0482 - val_accuracy: 0.9938\n",
      "Epoch 18/128\n",
      "1671/1671 [==============================] - 95s 57ms/step - loss: 0.0503 - accuracy: 0.9885 - val_loss: 0.0480 - val_accuracy: 0.9936\n",
      "Epoch 19/128\n",
      "1671/1671 [==============================] - 93s 56ms/step - loss: 0.0498 - accuracy: 0.9890 - val_loss: 0.0475 - val_accuracy: 0.9936\n",
      "Epoch 20/128\n",
      "1671/1671 [==============================] - 93s 56ms/step - loss: 0.0497 - accuracy: 0.9898 - val_loss: 0.0474 - val_accuracy: 0.9934\n",
      "Epoch 21/128\n",
      "1671/1671 [==============================] - 94s 57ms/step - loss: 0.0498 - accuracy: 0.9894 - val_loss: 0.0474 - val_accuracy: 0.9935\n",
      "Epoch 22/128\n",
      "1671/1671 [==============================] - 94s 56ms/step - loss: 0.0491 - accuracy: 0.9897 - val_loss: 0.0472 - val_accuracy: 0.9938\n",
      "Epoch 23/128\n",
      "1671/1671 [==============================] - 93s 56ms/step - loss: 0.0490 - accuracy: 0.9898 - val_loss: 0.0474 - val_accuracy: 0.9936\n",
      "Epoch 24/128\n",
      "1671/1671 [==============================] - 94s 56ms/step - loss: 0.0489 - accuracy: 0.9893 - val_loss: 0.0469 - val_accuracy: 0.9938\n",
      "Epoch 25/128\n",
      "1671/1671 [==============================] - 94s 56ms/step - loss: 0.0487 - accuracy: 0.9899 - val_loss: 0.0471 - val_accuracy: 0.9937\n",
      "Epoch 26/128\n",
      "1671/1671 [==============================] - 94s 56ms/step - loss: 0.0486 - accuracy: 0.9886 - val_loss: 0.0478 - val_accuracy: 0.9938\n",
      "\n",
      "Epoch 00026: ReduceLROnPlateau reducing learning rate to 2.499999936844688e-05.\n",
      "Epoch 27/128\n",
      "1671/1671 [==============================] - 93s 56ms/step - loss: 0.0477 - accuracy: 0.9898 - val_loss: 0.0470 - val_accuracy: 0.9936\n",
      "Epoch 28/128\n",
      "1671/1671 [==============================] - 94s 56ms/step - loss: 0.0474 - accuracy: 0.9890 - val_loss: 0.0466 - val_accuracy: 0.9937\n",
      "Epoch 29/128\n",
      "1671/1671 [==============================] - 94s 56ms/step - loss: 0.0476 - accuracy: 0.9893 - val_loss: 0.0470 - val_accuracy: 0.9936\n",
      "Epoch 30/128\n",
      "1671/1671 [==============================] - 93s 56ms/step - loss: 0.0475 - accuracy: 0.9894 - val_loss: 0.0467 - val_accuracy: 0.9936\n",
      "\n",
      "Epoch 00030: ReduceLROnPlateau reducing learning rate to 1.249999968422344e-05.\n",
      "Epoch 31/128\n",
      "1671/1671 [==============================] - 94s 56ms/step - loss: 0.0471 - accuracy: 0.9893 - val_loss: 0.0462 - val_accuracy: 0.9936\n",
      "Epoch 32/128\n",
      "1671/1671 [==============================] - 94s 56ms/step - loss: 0.0469 - accuracy: 0.9897 - val_loss: 0.0465 - val_accuracy: 0.9937\n",
      "Epoch 33/128\n",
      "1671/1671 [==============================] - 93s 56ms/step - loss: 0.0467 - accuracy: 0.9906 - val_loss: 0.0464 - val_accuracy: 0.9936\n",
      "\n",
      "Epoch 00033: ReduceLROnPlateau reducing learning rate to 6.24999984211172e-06.\n",
      "Epoch 34/128\n",
      "1671/1671 [==============================] - 95s 57ms/step - loss: 0.0472 - accuracy: 0.9900 - val_loss: 0.0465 - val_accuracy: 0.9937\n",
      "Epoch 35/128\n",
      "1671/1671 [==============================] - 94s 56ms/step - loss: 0.0469 - accuracy: 0.9893 - val_loss: 0.0462 - val_accuracy: 0.9938\n",
      "\n",
      "Epoch 00035: ReduceLROnPlateau reducing learning rate to 3.12499992105586e-06.\n",
      "Epoch 36/128\n",
      "1671/1671 [==============================] - 93s 56ms/step - loss: 0.0468 - accuracy: 0.9900 - val_loss: 0.0463 - val_accuracy: 0.9937\n",
      "Epoch 37/128\n",
      "1671/1671 [==============================] - 93s 56ms/step - loss: 0.0468 - accuracy: 0.9899 - val_loss: 0.0464 - val_accuracy: 0.9936\n",
      "\n",
      "Epoch 00037: ReduceLROnPlateau reducing learning rate to 1.56249996052793e-06.\n",
      "Epoch 38/128\n",
      "1671/1671 [==============================] - 94s 57ms/step - loss: 0.0468 - accuracy: 0.9900 - val_loss: 0.0464 - val_accuracy: 0.9937\n",
      "Epoch 39/128\n",
      "1671/1671 [==============================] - 94s 56ms/step - loss: 0.0466 - accuracy: 0.9901 - val_loss: 0.0463 - val_accuracy: 0.9937\n",
      "\n",
      "Epoch 00039: ReduceLROnPlateau reducing learning rate to 7.81249980263965e-07.\n",
      "Epoch 40/128\n",
      "1671/1671 [==============================] - 94s 56ms/step - loss: 0.0467 - accuracy: 0.9898 - val_loss: 0.0462 - val_accuracy: 0.9937\n",
      "Epoch 41/128\n",
      "1671/1671 [==============================] - 94s 56ms/step - loss: 0.0468 - accuracy: 0.9899 - val_loss: 0.0463 - val_accuracy: 0.9937\n",
      "\n",
      "Epoch 00041: ReduceLROnPlateau reducing learning rate to 3.906249901319825e-07.\n",
      "Epoch 42/128\n",
      "1671/1671 [==============================] - 93s 56ms/step - loss: 0.0467 - accuracy: 0.9899 - val_loss: 0.0462 - val_accuracy: 0.9937\n",
      "Epoch 43/128\n",
      "1671/1671 [==============================] - 94s 56ms/step - loss: 0.0465 - accuracy: 0.9900 - val_loss: 0.0463 - val_accuracy: 0.9937\n",
      "\n",
      "Epoch 00043: ReduceLROnPlateau reducing learning rate to 1.9531249506599124e-07.\n",
      "Epoch 44/128\n",
      "1671/1671 [==============================] - 94s 56ms/step - loss: 0.0468 - accuracy: 0.9901 - val_loss: 0.0463 - val_accuracy: 0.9937\n",
      "Epoch 45/128\n",
      "1671/1671 [==============================] - 93s 56ms/step - loss: 0.0465 - accuracy: 0.9900 - val_loss: 0.0463 - val_accuracy: 0.9937\n",
      "\n",
      "Epoch 00045: ReduceLROnPlateau reducing learning rate to 9.765624753299562e-08.\n",
      "Epoch 46/128\n",
      "1671/1671 [==============================] - 94s 56ms/step - loss: 0.0468 - accuracy: 0.9897 - val_loss: 0.0463 - val_accuracy: 0.9937\n"
     ]
    }
   ],
   "source": [
    "reduce_LR = ReduceLROnPlateau(monitor='val_loss',patience=2, verbose=1, factor=0.5, min_lr=0.00000001)\n",
    "early_stopping = EarlyStopping(monitor='val_loss', patience=15,restore_best_weights=True)\n",
    "\n",
    "weights_file = 'autoencoder_denoising.h5'\n",
    "if os.path.exists(weights_file):\n",
    "    model.load_weights(weights_file)\n",
    "    my_history=np.load('my_history.npy',allow_pickle='TRUE').item()\n",
    "    print('Loaded weights!')\n",
    "    \n",
    "else:\n",
    "    history_keras =  model.fit(X_train, Y_train,batch_size=config.batch_size, epochs=config.epochs, validation_data=(X_val, Y_val), callbacks=[early_stopping,reduce_LR])\n",
    "    model.save_weights('autoencoder_denoising.h5')\n",
    "    np.save('my_history.npy',history_keras.history)\n",
    "    my_history=history_keras.history\n",
    "\n"
   ]
  },
  {
   "cell_type": "code",
   "execution_count": 11,
   "id": "cd2feaf4",
   "metadata": {
    "execution": {
     "iopub.execute_input": "2022-04-09T20:13:37.126940Z",
     "iopub.status.busy": "2022-04-09T20:13:37.126336Z",
     "iopub.status.idle": "2022-04-09T20:14:34.037057Z",
     "shell.execute_reply": "2022-04-09T20:14:34.036399Z",
     "shell.execute_reply.started": "2022-04-09T15:22:52.81984Z"
    },
    "papermill": {
     "duration": 71.043163,
     "end_time": "2022-04-09T20:14:34.037206",
     "exception": false,
     "start_time": "2022-04-09T20:13:22.994043",
     "status": "completed"
    },
    "tags": []
   },
   "outputs": [
    {
     "data": {
      "image/png": "[encoded data removed]",
      "text/plain": [
       "<Figure size 1440x720 with 2 Axes>"
      ]
     },
     "metadata": {
      "needs_background": "light"
     },
     "output_type": "display_data"
    }
   ],
   "source": [
    "\n",
    "f, axarr = plt.subplots(1,2) \n",
    "plt.gcf().set_size_inches(20, 10)\n",
    "\n",
    "axarr[0].plot(my_history['loss'], 'r--')\n",
    "axarr[0].plot(my_history['val_loss'], 'b-')\n",
    "axarr[0].legend(['Training Loss', 'Validation Loss'], loc = 'upper left')\n",
    "\n",
    "axarr[1].plot(my_history['accuracy'])\n",
    "axarr[1].plot(my_history['val_accuracy'])\n",
    "axarr[1].legend(['Training Accuracy', 'Validation Accuracy'], loc = 'upper left')\n",
    "\n",
    "\n",
    "plt.show()"
   ]
  },
  {
   "cell_type": "code",
   "execution_count": 12,
   "id": "a5e82ee3",
   "metadata": {
    "execution": {
     "iopub.execute_input": "2022-04-09T20:15:00.738019Z",
     "iopub.status.busy": "2022-04-09T20:15:00.737087Z",
     "iopub.status.idle": "2022-04-09T20:15:24.734437Z",
     "shell.execute_reply": "2022-04-09T20:15:24.734841Z",
     "shell.execute_reply.started": "2022-04-09T15:23:01.394104Z"
    },
    "papermill": {
     "duration": 37.266787,
     "end_time": "2022-04-09T20:15:24.735039",
     "exception": false,
     "start_time": "2022-04-09T20:14:47.468252",
     "status": "completed"
    },
    "tags": []
   },
   "outputs": [
    {
     "name": "stdout",
     "output_type": "stream",
     "text": [
      "150/150 [==============================] - 13s 75ms/step\n"
     ]
    }
   ],
   "source": [
    "y_test = model.predict([Test_x_tokenized_padded], batch_size=1024, verbose=1) \n",
    "sample_submission = pd.read_csv('/kaggle/input/jigsaw-toxic-comment-classification-challenge/sample_submission.csv.zip')\n",
    "sample_submission[classes] = y_test \n",
    "sample_submission.to_csv('submission.csv', index=False) "
   ]
  },
  {
   "cell_type": "code",
   "execution_count": null,
   "id": "e4def0dd",
   "metadata": {
    "papermill": {
     "duration": 13.403129,
     "end_time": "2022-04-09T20:15:52.109638",
     "exception": false,
     "start_time": "2022-04-09T20:15:38.706509",
     "status": "completed"
    },
    "tags": []
   },
   "outputs": [],
   "source": []
  }
 ],
 "metadata": {
  "kernelspec": {
   "display_name": "Python 3 (ipykernel)",
   "language": "python",
   "name": "python3"
  },
  "language_info": {
   "codemirror_mode": {
    "name": "ipython",
    "version": 3
   },
   "file_extension": ".py",
   "mimetype": "text/x-python",
   "name": "python",
   "nbconvert_exporter": "python",
   "pygments_lexer": "ipython3",
   "version": "3.9.7"
  },
  "papermill": {
   "default_parameters": {},
   "duration": 4565.371475,
   "end_time": "2022-04-09T20:16:09.681574",
   "environment_variables": {},
   "exception": null,
   "input_path": "__notebook__.ipynb",
   "output_path": "__notebook__.ipynb",
   "parameters": {},
   "start_time": "2022-04-09T19:00:04.310099",
   "version": "2.3.3"
  }
 },
 "nbformat": 4,
 "nbformat_minor": 5
}
