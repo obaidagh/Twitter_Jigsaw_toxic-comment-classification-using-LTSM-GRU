{
 "cells": [
  {
   "cell_type": "markdown",
   "id": "6b54fb5c",
   "metadata": {
    "papermill": {
     "duration": 0.02575,
     "end_time": "2022-04-09T15:24:12.871429",
     "exception": false,
     "start_time": "2022-04-09T15:24:12.845679",
     "status": "completed"
    },
    "tags": []
   },
   "source": [
    "# <center> `Library Importing and config class`  </center>"
   ]
  },
  {
   "cell_type": "code",
   "execution_count": 1,
   "id": "5a71080c",
   "metadata": {
    "execution": {
     "iopub.execute_input": "2022-04-09T15:24:12.935767Z",
     "iopub.status.busy": "2022-04-09T15:24:12.933334Z",
     "iopub.status.idle": "2022-04-09T15:24:18.678442Z",
     "shell.execute_reply": "2022-04-09T15:24:18.677826Z",
     "shell.execute_reply.started": "2022-04-09T15:14:50.580918Z"
    },
    "papermill": {
     "duration": 5.784497,
     "end_time": "2022-04-09T15:24:18.678591",
     "exception": false,
     "start_time": "2022-04-09T15:24:12.894094",
     "status": "completed"
    },
    "tags": []
   },
   "outputs": [],
   "source": [
    "%matplotlib inline\n",
    "import matplotlib.pyplot as plt\n",
    "import os, numpy as np, pandas as pd\n",
    "from sklearn.model_selection import train_test_split\n",
    "\n",
    "\n",
    "from keras.preprocessing.text import Tokenizer\n",
    "from keras.preprocessing.sequence import pad_sequences\n",
    "\n",
    "from keras.layers import Dense, Input, LSTM, Embedding, Dropout, Activation, SpatialDropout1D\n",
    "\n",
    "from keras.layers import MaxPool1D, Flatten, Conv1D, GRU, GlobalAveragePooling1D, GlobalMaxPooling1D,concatenate,Bidirectional, GlobalMaxPool1D\n",
    "\n",
    "from keras.callbacks import ReduceLROnPlateau, EarlyStopping\n",
    "\n",
    "from keras.models import Model,Sequential\n",
    "from tensorflow.keras.optimizers import Adam\n",
    "from keras import initializers,optimizers, layers\n",
    "from keras.initializers import Constant\n"
   ]
  },
  {
   "cell_type": "code",
   "execution_count": 2,
   "id": "6ae0da2b",
   "metadata": {
    "execution": {
     "iopub.execute_input": "2022-04-09T15:24:18.711927Z",
     "iopub.status.busy": "2022-04-09T15:24:18.711166Z",
     "iopub.status.idle": "2022-04-09T15:24:18.713543Z",
     "shell.execute_reply": "2022-04-09T15:24:18.713096Z",
     "shell.execute_reply.started": "2022-04-09T15:14:56.850333Z"
    },
    "papermill": {
     "duration": 0.021068,
     "end_time": "2022-04-09T15:24:18.713642",
     "exception": false,
     "start_time": "2022-04-09T15:24:18.692574",
     "status": "completed"
    },
    "tags": []
   },
   "outputs": [],
   "source": [
    "class config_class(object):\n",
    "    def __init__(self, max_features, maxlen,embed_size,batch_size,epochs):\n",
    "        self.max_features = max_features\n",
    "        self.maxlen = maxlen\n",
    "        self.embed_size = embed_size\n",
    "        self.batch_size = batch_size\n",
    "        self.epochs = epochs\n",
    "        \n",
    "config=config_class(max_features = 20000, maxlen = 200, embed_size = 50,batch_size = 32,epochs = 128)"
   ]
  },
  {
   "cell_type": "markdown",
   "id": "474cb8b1",
   "metadata": {
    "papermill": {
     "duration": 0.013478,
     "end_time": "2022-04-09T15:24:18.740774",
     "exception": false,
     "start_time": "2022-04-09T15:24:18.727296",
     "status": "completed"
    },
    "tags": []
   },
   "source": [
    "# <center> `Data importing and preperation`  </center>"
   ]
  },
  {
   "cell_type": "code",
   "execution_count": 3,
   "id": "3ca63006",
   "metadata": {
    "execution": {
     "iopub.execute_input": "2022-04-09T15:24:18.773217Z",
     "iopub.status.busy": "2022-04-09T15:24:18.772502Z",
     "iopub.status.idle": "2022-04-09T15:24:21.557339Z",
     "shell.execute_reply": "2022-04-09T15:24:21.556804Z",
     "shell.execute_reply.started": "2022-04-09T15:14:56.865333Z"
    },
    "papermill": {
     "duration": 2.802748,
     "end_time": "2022-04-09T15:24:21.557483",
     "exception": false,
     "start_time": "2022-04-09T15:24:18.754735",
     "status": "completed"
    },
    "tags": []
   },
   "outputs": [],
   "source": [
    "train = pd.read_csv('/kaggle/input/jigsaw-toxic-comment-classification-challenge/train.csv.zip')\n",
    "test  = pd.read_csv('/kaggle/input/jigsaw-toxic-comment-classification-challenge/test.csv.zip')"
   ]
  },
  {
   "cell_type": "code",
   "execution_count": 4,
   "id": "3873cd13",
   "metadata": {
    "execution": {
     "iopub.execute_input": "2022-04-09T15:24:21.606198Z",
     "iopub.status.busy": "2022-04-09T15:24:21.604532Z",
     "iopub.status.idle": "2022-04-09T15:24:21.606791Z",
     "shell.execute_reply": "2022-04-09T15:24:21.607272Z",
     "shell.execute_reply.started": "2022-04-09T15:15:00.211036Z"
    },
    "papermill": {
     "duration": 0.035302,
     "end_time": "2022-04-09T15:24:21.607411",
     "exception": false,
     "start_time": "2022-04-09T15:24:21.572109",
     "status": "completed"
    },
    "tags": []
   },
   "outputs": [],
   "source": [
    "classes = [\"toxic\", \"severe_toxic\", \"obscene\", \"threat\", \"insult\", \"identity_hate\"]\n",
    "Train_y = train[classes].values\n",
    "Train_x = train[\"comment_text\"]\n",
    "Test_x  = test[\"comment_text\"]\n"
   ]
  },
  {
   "cell_type": "markdown",
   "id": "63015f15",
   "metadata": {
    "papermill": {
     "duration": 0.01556,
     "end_time": "2022-04-09T15:24:21.639208",
     "exception": false,
     "start_time": "2022-04-09T15:24:21.623648",
     "status": "completed"
    },
    "tags": []
   },
   "source": [
    "# <center> `Tokenization and padding`  </center>"
   ]
  },
  {
   "cell_type": "code",
   "execution_count": 5,
   "id": "f831e9a0",
   "metadata": {
    "execution": {
     "iopub.execute_input": "2022-04-09T15:24:21.728692Z",
     "iopub.status.busy": "2022-04-09T15:24:21.723343Z",
     "iopub.status.idle": "2022-04-09T15:24:48.414441Z",
     "shell.execute_reply": "2022-04-09T15:24:48.413909Z",
     "shell.execute_reply.started": "2022-04-09T15:15:00.232225Z"
    },
    "papermill": {
     "duration": 26.759512,
     "end_time": "2022-04-09T15:24:48.414581",
     "exception": false,
     "start_time": "2022-04-09T15:24:21.655069",
     "status": "completed"
    },
    "tags": []
   },
   "outputs": [],
   "source": [
    "tokenizer =Tokenizer(num_words=config.max_features,\n",
    "                     filters='!\"#$%&()*+,-./:;<=>?@[\\\\]^_`{|}~\\t\\n', \n",
    "                     split=' ', oov_token='<OOV>')\n",
    "tokenizer.fit_on_texts(list(Train_x))\n",
    "\n",
    "Train_x_tokenized = tokenizer.texts_to_sequences(Train_x)\n",
    "Test_x_tokenized  = tokenizer.texts_to_sequences(Test_x)"
   ]
  },
  {
   "cell_type": "code",
   "execution_count": 6,
   "id": "9ff31dae",
   "metadata": {
    "execution": {
     "iopub.execute_input": "2022-04-09T15:24:48.466590Z",
     "iopub.status.busy": "2022-04-09T15:24:48.451139Z",
     "iopub.status.idle": "2022-04-09T15:24:51.051411Z",
     "shell.execute_reply": "2022-04-09T15:24:51.050829Z",
     "shell.execute_reply.started": "2022-04-09T15:15:31.087336Z"
    },
    "papermill": {
     "duration": 2.622168,
     "end_time": "2022-04-09T15:24:51.051541",
     "exception": false,
     "start_time": "2022-04-09T15:24:48.429373",
     "status": "completed"
    },
    "tags": []
   },
   "outputs": [],
   "source": [
    "Train_x_tokenized_padded = pad_sequences(Train_x_tokenized, maxlen=config.maxlen , padding='post',truncating='post')\n",
    "Test_x_tokenized_padded  = pad_sequences(Test_x_tokenized , maxlen=config.maxlen , padding='post',truncating='post')"
   ]
  },
  {
   "cell_type": "code",
   "execution_count": 7,
   "id": "d8b2d824",
   "metadata": {
    "execution": {
     "iopub.execute_input": "2022-04-09T15:24:51.089155Z",
     "iopub.status.busy": "2022-04-09T15:24:51.088096Z",
     "iopub.status.idle": "2022-04-09T15:24:51.153329Z",
     "shell.execute_reply": "2022-04-09T15:24:51.152835Z",
     "shell.execute_reply.started": "2022-04-09T15:15:33.895560Z"
    },
    "papermill": {
     "duration": 0.08757,
     "end_time": "2022-04-09T15:24:51.153460",
     "exception": false,
     "start_time": "2022-04-09T15:24:51.065890",
     "status": "completed"
    },
    "tags": []
   },
   "outputs": [],
   "source": [
    "X_train, X_val, Y_train, Y_val = train_test_split( Train_x_tokenized_padded, Train_y, test_size=0.33, random_state=42)"
   ]
  },
  {
   "cell_type": "markdown",
   "id": "f7bc1310",
   "metadata": {
    "papermill": {
     "duration": 0.013962,
     "end_time": "2022-04-09T15:24:51.181557",
     "exception": false,
     "start_time": "2022-04-09T15:24:51.167595",
     "status": "completed"
    },
    "tags": []
   },
   "source": [
    "# <center> `Glove50 Embeddings vector`  </center>"
   ]
  },
  {
   "cell_type": "code",
   "execution_count": 8,
   "id": "9d0070d6",
   "metadata": {
    "execution": {
     "iopub.execute_input": "2022-04-09T15:24:51.216499Z",
     "iopub.status.busy": "2022-04-09T15:24:51.215892Z",
     "iopub.status.idle": "2022-04-09T15:24:58.618522Z",
     "shell.execute_reply": "2022-04-09T15:24:58.619714Z",
     "shell.execute_reply.started": "2022-04-09T15:15:33.985898Z"
    },
    "papermill": {
     "duration": 7.424428,
     "end_time": "2022-04-09T15:24:58.619927",
     "exception": false,
     "start_time": "2022-04-09T15:24:51.195499",
     "status": "completed"
    },
    "tags": []
   },
   "outputs": [
    {
     "name": "stderr",
     "output_type": "stream",
     "text": [
      "/opt/conda/lib/python3.7/site-packages/IPython/core/interactiveshell.py:3377: FutureWarning: arrays to stack must be passed as a \"sequence\" type such as list or tuple. Support for non-sequence iterables such as generators is deprecated as of NumPy 1.16 and will raise an error in the future.\n",
      "  if (await self.run_code(code, result,  async_=asy)):\n"
     ]
    }
   ],
   "source": [
    "def get_coefs(word,*arr): \n",
    "    return word, np.asarray(arr, dtype='float32')\n",
    "embeddings_index = dict(get_coefs(*o.strip().split()) for o in open('/kaggle/input/glove6b50dtxt/glove.6B.50d.txt')) \n",
    "\n",
    "all_embs = np.stack(embeddings_index.values()) \n",
    "emb_mean,emb_std = all_embs.mean(), all_embs.std() \n",
    "\n",
    "\n",
    "word_index = tokenizer.word_index \n",
    "nb_words = min(config.max_features, len(word_index)) \n",
    "                                              \n",
    "embedding_matrix = np.random.normal(emb_mean, emb_std, (nb_words, config.embed_size))\n",
    "\n",
    "\n",
    "\n",
    "for word, i in word_index.items():\n",
    "    if i >= config.max_features: \n",
    "        continue \n",
    "    embedding_vector = embeddings_index.get(word) \n",
    "    \n",
    "    if embedding_vector is not None: \n",
    "        embedding_matrix[i] = embedding_vector \n",
    "        \n",
    "        "
   ]
  },
  {
   "cell_type": "markdown",
   "id": "d19be8ec",
   "metadata": {
    "papermill": {
     "duration": 0.029549,
     "end_time": "2022-04-09T15:24:58.680429",
     "exception": false,
     "start_time": "2022-04-09T15:24:58.650880",
     "status": "completed"
    },
    "tags": []
   },
   "source": [
    "# <center> `Model Initialization and Compiling`  </center>"
   ]
  },
  {
   "cell_type": "code",
   "execution_count": 9,
   "id": "6619dbce",
   "metadata": {
    "execution": {
     "iopub.execute_input": "2022-04-09T15:24:58.738902Z",
     "iopub.status.busy": "2022-04-09T15:24:58.738068Z",
     "iopub.status.idle": "2022-04-09T15:25:01.933037Z",
     "shell.execute_reply": "2022-04-09T15:25:01.932550Z",
     "shell.execute_reply.started": "2022-04-09T15:16:22.601819Z"
    },
    "papermill": {
     "duration": 3.22779,
     "end_time": "2022-04-09T15:25:01.933163",
     "exception": false,
     "start_time": "2022-04-09T15:24:58.705373",
     "status": "completed"
    },
    "tags": []
   },
   "outputs": [
    {
     "name": "stderr",
     "output_type": "stream",
     "text": [
      "2022-04-09 15:24:58.839077: I tensorflow/stream_executor/cuda/cuda_gpu_executor.cc:937] successful NUMA node read from SysFS had negative value (-1), but there must be at least one NUMA node, so returning NUMA node zero\n",
      "2022-04-09 15:24:58.927108: I tensorflow/stream_executor/cuda/cuda_gpu_executor.cc:937] successful NUMA node read from SysFS had negative value (-1), but there must be at least one NUMA node, so returning NUMA node zero\n",
      "2022-04-09 15:24:58.928291: I tensorflow/stream_executor/cuda/cuda_gpu_executor.cc:937] successful NUMA node read from SysFS had negative value (-1), but there must be at least one NUMA node, so returning NUMA node zero\n",
      "2022-04-09 15:24:58.934406: I tensorflow/core/platform/cpu_feature_guard.cc:142] This TensorFlow binary is optimized with oneAPI Deep Neural Network Library (oneDNN) to use the following CPU instructions in performance-critical operations:  AVX2 AVX512F FMA\n",
      "To enable them in other operations, rebuild TensorFlow with the appropriate compiler flags.\n",
      "2022-04-09 15:24:58.935254: I tensorflow/stream_executor/cuda/cuda_gpu_executor.cc:937] successful NUMA node read from SysFS had negative value (-1), but there must be at least one NUMA node, so returning NUMA node zero\n",
      "2022-04-09 15:24:58.936220: I tensorflow/stream_executor/cuda/cuda_gpu_executor.cc:937] successful NUMA node read from SysFS had negative value (-1), but there must be at least one NUMA node, so returning NUMA node zero\n",
      "2022-04-09 15:24:58.937141: I tensorflow/stream_executor/cuda/cuda_gpu_executor.cc:937] successful NUMA node read from SysFS had negative value (-1), but there must be at least one NUMA node, so returning NUMA node zero\n",
      "2022-04-09 15:25:00.747887: I tensorflow/stream_executor/cuda/cuda_gpu_executor.cc:937] successful NUMA node read from SysFS had negative value (-1), but there must be at least one NUMA node, so returning NUMA node zero\n",
      "2022-04-09 15:25:00.748709: I tensorflow/stream_executor/cuda/cuda_gpu_executor.cc:937] successful NUMA node read from SysFS had negative value (-1), but there must be at least one NUMA node, so returning NUMA node zero\n",
      "2022-04-09 15:25:00.749397: I tensorflow/stream_executor/cuda/cuda_gpu_executor.cc:937] successful NUMA node read from SysFS had negative value (-1), but there must be at least one NUMA node, so returning NUMA node zero\n",
      "2022-04-09 15:25:00.749949: I tensorflow/core/common_runtime/gpu/gpu_device.cc:1510] Created device /job:localhost/replica:0/task:0/device:GPU:0 with 15403 MB memory:  -> device: 0, name: Tesla P100-PCIE-16GB, pci bus id: 0000:00:04.0, compute capability: 6.0\n"
     ]
    },
    {
     "name": "stdout",
     "output_type": "stream",
     "text": [
      "Model: \"sequential\"\n",
      "_________________________________________________________________\n",
      "Layer (type)                 Output Shape              Param #   \n",
      "=================================================================\n",
      "embedding (Embedding)        (None, 200, 50)           1000000   \n",
      "_________________________________________________________________\n",
      "spatial_dropout1d (SpatialDr (None, 200, 50)           0         \n",
      "_________________________________________________________________\n",
      "bidirectional (Bidirectional (None, 200, 256)          183296    \n",
      "_________________________________________________________________\n",
      "global_max_pooling1d (Global (None, 256)               0         \n",
      "_________________________________________________________________\n",
      "dropout (Dropout)            (None, 256)               0         \n",
      "_________________________________________________________________\n",
      "dense (Dense)                (None, 50)                12850     \n",
      "_________________________________________________________________\n",
      "dropout_1 (Dropout)          (None, 50)                0         \n",
      "_________________________________________________________________\n",
      "dense_1 (Dense)              (None, 6)                 306       \n",
      "=================================================================\n",
      "Total params: 1,196,452\n",
      "Trainable params: 196,452\n",
      "Non-trainable params: 1,000,000\n",
      "_________________________________________________________________\n"
     ]
    }
   ],
   "source": [
    "model = Sequential([\n",
    "    Input(shape=(config.maxlen,)),\n",
    "    Embedding(config.max_features, config.embed_size, trainable=False,embeddings_initializer=Constant(embedding_matrix)),\n",
    "    SpatialDropout1D(0.2),\n",
    "    Bidirectional(LSTM(128, return_sequences=True,dropout=0.1)),\n",
    "    GlobalMaxPool1D(),\n",
    "    Dropout(0.25),\n",
    "    Dense(50, activation=\"relu\"),\n",
    "    Dropout(0.1),\n",
    "    Dense(6, activation=\"sigmoid\")\n",
    "    ])\n",
    "optimizer= Adam(learning_rate=0.0001)\n",
    "model.compile(loss='binary_crossentropy',optimizer=optimizer,metrics=['accuracy'])\n",
    "model.summary()"
   ]
  },
  {
   "cell_type": "code",
   "execution_count": 10,
   "id": "009270f5",
   "metadata": {
    "execution": {
     "iopub.execute_input": "2022-04-09T15:25:01.970522Z",
     "iopub.status.busy": "2022-04-09T15:25:01.969871Z",
     "iopub.status.idle": "2022-04-09T17:06:21.320416Z",
     "shell.execute_reply": "2022-04-09T17:06:21.320834Z",
     "shell.execute_reply.started": "2022-04-09T15:16:27.566322Z"
    },
    "papermill": {
     "duration": 6079.372408,
     "end_time": "2022-04-09T17:06:21.321028",
     "exception": false,
     "start_time": "2022-04-09T15:25:01.948620",
     "status": "completed"
    },
    "tags": []
   },
   "outputs": [
    {
     "name": "stderr",
     "output_type": "stream",
     "text": [
      "2022-04-09 15:25:02.080281: I tensorflow/compiler/mlir/mlir_graph_optimization_pass.cc:185] None of the MLIR Optimization Passes are enabled (registered 2)\n"
     ]
    },
    {
     "name": "stdout",
     "output_type": "stream",
     "text": [
      "Epoch 1/128\n"
     ]
    },
    {
     "name": "stderr",
     "output_type": "stream",
     "text": [
      "2022-04-09 15:25:05.200584: I tensorflow/stream_executor/cuda/cuda_dnn.cc:369] Loaded cuDNN version 8005\n"
     ]
    },
    {
     "name": "stdout",
     "output_type": "stream",
     "text": [
      "3341/3341 [==============================] - 89s 25ms/step - loss: 0.1169 - accuracy: 0.7330 - val_loss: 0.0778 - val_accuracy: 0.9941\n",
      "Epoch 2/128\n",
      "3341/3341 [==============================] - 84s 25ms/step - loss: 0.0797 - accuracy: 0.8714 - val_loss: 0.0685 - val_accuracy: 0.9941\n",
      "Epoch 3/128\n",
      "3341/3341 [==============================] - 84s 25ms/step - loss: 0.0727 - accuracy: 0.9145 - val_loss: 0.0624 - val_accuracy: 0.9940\n",
      "Epoch 4/128\n",
      "3341/3341 [==============================] - 84s 25ms/step - loss: 0.0692 - accuracy: 0.9440 - val_loss: 0.0593 - val_accuracy: 0.9940\n",
      "Epoch 5/128\n",
      "3341/3341 [==============================] - 85s 25ms/step - loss: 0.0669 - accuracy: 0.9572 - val_loss: 0.0588 - val_accuracy: 0.9941\n",
      "Epoch 6/128\n",
      "3341/3341 [==============================] - 84s 25ms/step - loss: 0.0651 - accuracy: 0.9655 - val_loss: 0.0565 - val_accuracy: 0.9941\n",
      "Epoch 7/128\n",
      "3341/3341 [==============================] - 85s 25ms/step - loss: 0.0629 - accuracy: 0.9682 - val_loss: 0.0564 - val_accuracy: 0.9941\n",
      "Epoch 8/128\n",
      "3341/3341 [==============================] - 84s 25ms/step - loss: 0.0618 - accuracy: 0.9746 - val_loss: 0.0551 - val_accuracy: 0.9940\n",
      "Epoch 9/128\n",
      "3341/3341 [==============================] - 84s 25ms/step - loss: 0.0606 - accuracy: 0.9777 - val_loss: 0.0543 - val_accuracy: 0.9941\n",
      "Epoch 10/128\n",
      "3341/3341 [==============================] - 84s 25ms/step - loss: 0.0597 - accuracy: 0.9824 - val_loss: 0.0528 - val_accuracy: 0.9940\n",
      "Epoch 11/128\n",
      "3341/3341 [==============================] - 84s 25ms/step - loss: 0.0586 - accuracy: 0.9847 - val_loss: 0.0527 - val_accuracy: 0.9940\n",
      "Epoch 12/128\n",
      "3341/3341 [==============================] - 84s 25ms/step - loss: 0.0579 - accuracy: 0.9865 - val_loss: 0.0519 - val_accuracy: 0.9940\n",
      "Epoch 13/128\n",
      "3341/3341 [==============================] - 84s 25ms/step - loss: 0.0574 - accuracy: 0.9864 - val_loss: 0.0512 - val_accuracy: 0.9940\n",
      "Epoch 14/128\n",
      "3341/3341 [==============================] - 84s 25ms/step - loss: 0.0566 - accuracy: 0.9849 - val_loss: 0.0514 - val_accuracy: 0.9940\n",
      "Epoch 15/128\n",
      "3341/3341 [==============================] - 85s 25ms/step - loss: 0.0558 - accuracy: 0.9852 - val_loss: 0.0505 - val_accuracy: 0.9940\n",
      "Epoch 16/128\n",
      "3341/3341 [==============================] - 84s 25ms/step - loss: 0.0552 - accuracy: 0.9880 - val_loss: 0.0504 - val_accuracy: 0.9940\n",
      "Epoch 17/128\n",
      "3341/3341 [==============================] - 84s 25ms/step - loss: 0.0551 - accuracy: 0.9871 - val_loss: 0.0501 - val_accuracy: 0.9939\n",
      "Epoch 18/128\n",
      "3341/3341 [==============================] - 84s 25ms/step - loss: 0.0545 - accuracy: 0.9879 - val_loss: 0.0505 - val_accuracy: 0.9940\n",
      "Epoch 19/128\n",
      "3341/3341 [==============================] - 84s 25ms/step - loss: 0.0540 - accuracy: 0.9876 - val_loss: 0.0504 - val_accuracy: 0.9940\n",
      "Epoch 20/128\n",
      "3341/3341 [==============================] - 84s 25ms/step - loss: 0.0535 - accuracy: 0.9848 - val_loss: 0.0489 - val_accuracy: 0.9940\n",
      "Epoch 21/128\n",
      "3341/3341 [==============================] - 84s 25ms/step - loss: 0.0531 - accuracy: 0.9901 - val_loss: 0.0510 - val_accuracy: 0.9936\n",
      "Epoch 22/128\n",
      "3341/3341 [==============================] - 84s 25ms/step - loss: 0.0527 - accuracy: 0.9887 - val_loss: 0.0486 - val_accuracy: 0.9937\n",
      "Epoch 23/128\n",
      "3341/3341 [==============================] - 84s 25ms/step - loss: 0.0522 - accuracy: 0.9879 - val_loss: 0.0485 - val_accuracy: 0.9938\n",
      "Epoch 24/128\n",
      "3341/3341 [==============================] - 84s 25ms/step - loss: 0.0519 - accuracy: 0.9890 - val_loss: 0.0479 - val_accuracy: 0.9938\n",
      "Epoch 25/128\n",
      "3341/3341 [==============================] - 85s 25ms/step - loss: 0.0517 - accuracy: 0.9898 - val_loss: 0.0480 - val_accuracy: 0.9937\n",
      "Epoch 26/128\n",
      "3341/3341 [==============================] - 85s 25ms/step - loss: 0.0513 - accuracy: 0.9901 - val_loss: 0.0475 - val_accuracy: 0.9936\n",
      "Epoch 27/128\n",
      "3341/3341 [==============================] - 84s 25ms/step - loss: 0.0509 - accuracy: 0.9907 - val_loss: 0.0470 - val_accuracy: 0.9939\n",
      "Epoch 28/128\n",
      "3341/3341 [==============================] - 84s 25ms/step - loss: 0.0505 - accuracy: 0.9897 - val_loss: 0.0470 - val_accuracy: 0.9939\n",
      "Epoch 29/128\n",
      "3341/3341 [==============================] - 83s 25ms/step - loss: 0.0506 - accuracy: 0.9899 - val_loss: 0.0475 - val_accuracy: 0.9940\n",
      "Epoch 30/128\n",
      "3341/3341 [==============================] - 85s 25ms/step - loss: 0.0497 - accuracy: 0.9901 - val_loss: 0.0479 - val_accuracy: 0.9940\n",
      "Epoch 31/128\n",
      "3341/3341 [==============================] - 85s 25ms/step - loss: 0.0494 - accuracy: 0.9910 - val_loss: 0.0466 - val_accuracy: 0.9939\n",
      "Epoch 32/128\n",
      "3341/3341 [==============================] - 84s 25ms/step - loss: 0.0496 - accuracy: 0.9907 - val_loss: 0.0469 - val_accuracy: 0.9941\n",
      "Epoch 33/128\n",
      "3341/3341 [==============================] - 85s 25ms/step - loss: 0.0492 - accuracy: 0.9912 - val_loss: 0.0464 - val_accuracy: 0.9939\n",
      "Epoch 34/128\n",
      "3341/3341 [==============================] - 84s 25ms/step - loss: 0.0489 - accuracy: 0.9909 - val_loss: 0.0466 - val_accuracy: 0.9941\n",
      "Epoch 35/128\n",
      "3341/3341 [==============================] - 85s 25ms/step - loss: 0.0484 - accuracy: 0.9916 - val_loss: 0.0470 - val_accuracy: 0.9940\n",
      "Epoch 36/128\n",
      "3341/3341 [==============================] - 86s 26ms/step - loss: 0.0484 - accuracy: 0.9911 - val_loss: 0.0466 - val_accuracy: 0.9938\n",
      "Epoch 37/128\n",
      "3341/3341 [==============================] - 84s 25ms/step - loss: 0.0481 - accuracy: 0.9904 - val_loss: 0.0468 - val_accuracy: 0.9938\n",
      "Epoch 38/128\n",
      "3341/3341 [==============================] - 85s 25ms/step - loss: 0.0481 - accuracy: 0.9916 - val_loss: 0.0459 - val_accuracy: 0.9940\n",
      "Epoch 39/128\n",
      "3341/3341 [==============================] - 84s 25ms/step - loss: 0.0473 - accuracy: 0.9923 - val_loss: 0.0458 - val_accuracy: 0.9941\n",
      "Epoch 40/128\n",
      "3341/3341 [==============================] - 85s 25ms/step - loss: 0.0473 - accuracy: 0.9914 - val_loss: 0.0474 - val_accuracy: 0.9937\n",
      "Epoch 41/128\n",
      "3341/3341 [==============================] - 86s 26ms/step - loss: 0.0471 - accuracy: 0.9923 - val_loss: 0.0461 - val_accuracy: 0.9938\n",
      "Epoch 42/128\n",
      "3341/3341 [==============================] - 84s 25ms/step - loss: 0.0467 - accuracy: 0.9911 - val_loss: 0.0456 - val_accuracy: 0.9939\n",
      "Epoch 43/128\n",
      "3341/3341 [==============================] - 85s 26ms/step - loss: 0.0469 - accuracy: 0.9910 - val_loss: 0.0459 - val_accuracy: 0.9938\n",
      "Epoch 44/128\n",
      "3341/3341 [==============================] - 84s 25ms/step - loss: 0.0466 - accuracy: 0.9912 - val_loss: 0.0458 - val_accuracy: 0.9936\n",
      "Epoch 45/128\n",
      "3341/3341 [==============================] - 85s 26ms/step - loss: 0.0462 - accuracy: 0.9911 - val_loss: 0.0455 - val_accuracy: 0.9940\n",
      "Epoch 46/128\n",
      "3341/3341 [==============================] - 83s 25ms/step - loss: 0.0464 - accuracy: 0.9898 - val_loss: 0.0458 - val_accuracy: 0.9939\n",
      "Epoch 47/128\n",
      "3341/3341 [==============================] - 85s 26ms/step - loss: 0.0458 - accuracy: 0.9906 - val_loss: 0.0457 - val_accuracy: 0.9939\n",
      "Epoch 48/128\n",
      "3341/3341 [==============================] - 83s 25ms/step - loss: 0.0455 - accuracy: 0.9910 - val_loss: 0.0456 - val_accuracy: 0.9937\n",
      "Epoch 49/128\n",
      "3341/3341 [==============================] - 83s 25ms/step - loss: 0.0456 - accuracy: 0.9902 - val_loss: 0.0455 - val_accuracy: 0.9935\n",
      "Epoch 50/128\n",
      "3341/3341 [==============================] - 85s 26ms/step - loss: 0.0455 - accuracy: 0.9908 - val_loss: 0.0456 - val_accuracy: 0.9939\n",
      "Epoch 51/128\n",
      "3341/3341 [==============================] - 83s 25ms/step - loss: 0.0452 - accuracy: 0.9907 - val_loss: 0.0453 - val_accuracy: 0.9940\n",
      "Epoch 52/128\n",
      "3341/3341 [==============================] - 84s 25ms/step - loss: 0.0449 - accuracy: 0.9916 - val_loss: 0.0459 - val_accuracy: 0.9937\n",
      "Epoch 53/128\n",
      "3341/3341 [==============================] - 86s 26ms/step - loss: 0.0448 - accuracy: 0.9918 - val_loss: 0.0455 - val_accuracy: 0.9935\n",
      "Epoch 54/128\n",
      "3341/3341 [==============================] - 83s 25ms/step - loss: 0.0447 - accuracy: 0.9909 - val_loss: 0.0458 - val_accuracy: 0.9938\n",
      "Epoch 55/128\n",
      "3341/3341 [==============================] - 84s 25ms/step - loss: 0.0447 - accuracy: 0.9913 - val_loss: 0.0450 - val_accuracy: 0.9938\n",
      "Epoch 56/128\n",
      "3341/3341 [==============================] - 86s 26ms/step - loss: 0.0445 - accuracy: 0.9906 - val_loss: 0.0453 - val_accuracy: 0.9937\n",
      "Epoch 57/128\n",
      "3341/3341 [==============================] - 84s 25ms/step - loss: 0.0441 - accuracy: 0.9895 - val_loss: 0.0450 - val_accuracy: 0.9938\n",
      "Epoch 58/128\n",
      "3341/3341 [==============================] - 83s 25ms/step - loss: 0.0440 - accuracy: 0.9911 - val_loss: 0.0471 - val_accuracy: 0.9938\n",
      "Epoch 59/128\n",
      "3341/3341 [==============================] - 84s 25ms/step - loss: 0.0437 - accuracy: 0.9908 - val_loss: 0.0452 - val_accuracy: 0.9938\n",
      "Epoch 60/128\n",
      "3341/3341 [==============================] - 85s 26ms/step - loss: 0.0437 - accuracy: 0.9911 - val_loss: 0.0459 - val_accuracy: 0.9937\n",
      "Epoch 61/128\n",
      "3341/3341 [==============================] - 83s 25ms/step - loss: 0.0434 - accuracy: 0.9903 - val_loss: 0.0458 - val_accuracy: 0.9936\n",
      "Epoch 62/128\n",
      "3341/3341 [==============================] - 84s 25ms/step - loss: 0.0435 - accuracy: 0.9899 - val_loss: 0.0453 - val_accuracy: 0.9939\n",
      "Epoch 63/128\n",
      "3341/3341 [==============================] - 86s 26ms/step - loss: 0.0430 - accuracy: 0.9917 - val_loss: 0.0457 - val_accuracy: 0.9935\n",
      "Epoch 64/128\n",
      "3341/3341 [==============================] - 84s 25ms/step - loss: 0.0429 - accuracy: 0.9916 - val_loss: 0.0451 - val_accuracy: 0.9937\n",
      "Epoch 65/128\n",
      "3341/3341 [==============================] - 84s 25ms/step - loss: 0.0431 - accuracy: 0.9915 - val_loss: 0.0457 - val_accuracy: 0.9936\n",
      "Epoch 66/128\n",
      "3341/3341 [==============================] - 87s 26ms/step - loss: 0.0425 - accuracy: 0.9913 - val_loss: 0.0452 - val_accuracy: 0.9938\n",
      "Epoch 67/128\n",
      "3341/3341 [==============================] - 85s 25ms/step - loss: 0.0426 - accuracy: 0.9905 - val_loss: 0.0458 - val_accuracy: 0.9935\n",
      "Epoch 68/128\n",
      "3341/3341 [==============================] - 84s 25ms/step - loss: 0.0424 - accuracy: 0.9909 - val_loss: 0.0457 - val_accuracy: 0.9933\n",
      "Epoch 69/128\n",
      "3341/3341 [==============================] - 83s 25ms/step - loss: 0.0422 - accuracy: 0.9900 - val_loss: 0.0451 - val_accuracy: 0.9935\n",
      "Epoch 70/128\n",
      "3341/3341 [==============================] - 86s 26ms/step - loss: 0.0418 - accuracy: 0.9904 - val_loss: 0.0453 - val_accuracy: 0.9924\n",
      "Epoch 71/128\n",
      "3341/3341 [==============================] - 84s 25ms/step - loss: 0.0419 - accuracy: 0.9897 - val_loss: 0.0454 - val_accuracy: 0.9934\n",
      "Epoch 72/128\n",
      "3341/3341 [==============================] - 84s 25ms/step - loss: 0.0415 - accuracy: 0.9911 - val_loss: 0.0453 - val_accuracy: 0.9930\n"
     ]
    }
   ],
   "source": [
    "reduce_LR = ReduceLROnPlateau(monitor='val_acc',patience=2, verbose=1, factor=0.5, min_lr=0.00000001)\n",
    "early_stopping = EarlyStopping(monitor='val_loss', patience=15,restore_best_weights=True)\n",
    "\n",
    "weights_file = 'autoencoder_denoising.h5'\n",
    "if os.path.exists(weights_file):\n",
    "    model.load_weights(weights_file)\n",
    "    my_history=np.load('my_history.npy',allow_pickle='TRUE').item()\n",
    "    print('Loaded weights!')\n",
    "    \n",
    "else:\n",
    "    history_keras =  model.fit(X_train, Y_train,batch_size=config.batch_size, epochs=config.epochs, validation_data=(X_val, Y_val), callbacks=[early_stopping,reduce_LR])\n",
    "    model.save_weights('autoencoder_denoising.h5')\n",
    "    np.save('my_history.npy',history_keras.history)\n",
    "    my_history=history_keras.history\n",
    "\n"
   ]
  },
  {
   "cell_type": "code",
   "execution_count": 11,
   "id": "c7a231b6",
   "metadata": {
    "execution": {
     "iopub.execute_input": "2022-04-09T17:07:13.897487Z",
     "iopub.status.busy": "2022-04-09T17:07:13.896863Z",
     "iopub.status.idle": "2022-04-09T17:07:26.598888Z",
     "shell.execute_reply": "2022-04-09T17:07:26.598447Z",
     "shell.execute_reply.started": "2022-04-09T15:22:52.819840Z"
    },
    "papermill": {
     "duration": 38.50595,
     "end_time": "2022-04-09T17:07:26.599028",
     "exception": false,
     "start_time": "2022-04-09T17:06:48.093078",
     "status": "completed"
    },
    "tags": []
   },
   "outputs": [
    {
     "data": {
      "image/png": "[encoded data removed]",
      "text/plain": [
       "<Figure size 1440x720 with 2 Axes>"
      ]
     },
     "metadata": {
      "needs_background": "light"
     },
     "output_type": "display_data"
    }
   ],
   "source": [
    "\n",
    "f, axarr = plt.subplots(1,2) \n",
    "plt.gcf().set_size_inches(20, 10)\n",
    "\n",
    "axarr[0].plot(my_history['loss'], 'r--')\n",
    "axarr[0].plot(my_history['val_loss'], 'b-')\n",
    "axarr[0].legend(['Training Loss', 'Validation Loss'], loc = 'upper left')\n",
    "\n",
    "axarr[1].plot(my_history['accuracy'])\n",
    "axarr[1].plot(my_history['val_accuracy'])\n",
    "axarr[1].legend(['Training Accuracy', 'Validation Accuracy'], loc = 'upper left')\n",
    "\n",
    "\n",
    "plt.show()"
   ]
  },
  {
   "cell_type": "code",
   "execution_count": 12,
   "id": "93f0dcb3",
   "metadata": {
    "execution": {
     "iopub.execute_input": "2022-04-09T17:08:18.909934Z",
     "iopub.status.busy": "2022-04-09T17:08:18.909033Z",
     "iopub.status.idle": "2022-04-09T17:08:31.281804Z",
     "shell.execute_reply": "2022-04-09T17:08:31.281334Z",
     "shell.execute_reply.started": "2022-04-09T15:23:01.394104Z"
    },
    "papermill": {
     "duration": 38.164555,
     "end_time": "2022-04-09T17:08:31.281936",
     "exception": false,
     "start_time": "2022-04-09T17:07:53.117381",
     "status": "completed"
    },
    "tags": []
   },
   "outputs": [
    {
     "name": "stdout",
     "output_type": "stream",
     "text": [
      "150/150 [==============================] - 6s 36ms/step\n"
     ]
    }
   ],
   "source": [
    "y_test = model.predict([Test_x_tokenized_padded], batch_size=1024, verbose=1) \n",
    "sample_submission = pd.read_csv('/kaggle/input/jigsaw-toxic-comment-classification-challenge/sample_submission.csv.zip')\n",
    "sample_submission[classes] = y_test \n",
    "sample_submission.to_csv('submission.csv', index=False) "
   ]
  },
  {
   "cell_type": "code",
   "execution_count": null,
   "id": "2a7b1ec2",
   "metadata": {
    "papermill": {
     "duration": 25.785612,
     "end_time": "2022-04-09T17:09:23.813190",
     "exception": false,
     "start_time": "2022-04-09T17:08:58.027578",
     "status": "completed"
    },
    "tags": []
   },
   "outputs": [],
   "source": []
  }
 ],
 "metadata": {
  "kernelspec": {
   "display_name": "Python 3 (ipykernel)",
   "language": "python",
   "name": "python3"
  },
  "language_info": {
   "codemirror_mode": {
    "name": "ipython",
    "version": 3
   },
   "file_extension": ".py",
   "mimetype": "text/x-python",
   "name": "python",
   "nbconvert_exporter": "python",
   "pygments_lexer": "ipython3",
   "version": "3.9.7"
  },
  "papermill": {
   "default_parameters": {},
   "duration": 6348.601593,
   "end_time": "2022-04-09T17:09:53.371339",
   "environment_variables": {},
   "exception": null,
   "input_path": "__notebook__.ipynb",
   "output_path": "__notebook__.ipynb",
   "parameters": {},
   "start_time": "2022-04-09T15:24:04.769746",
   "version": "2.3.3"
  }
 },
 "nbformat": 4,
 "nbformat_minor": 5
}
